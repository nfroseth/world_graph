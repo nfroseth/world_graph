{
 "cells": [
  {
   "cell_type": "code",
   "execution_count": 1,
   "metadata": {},
   "outputs": [],
   "source": [
    "import logging\n",
    "from pathlib import Path\n",
    "\n",
    "import pandas as pd\n",
    "import faiss\n",
    "import numpy as np\n",
    "\n",
    "\n",
    "from langchain_huggingface import HuggingFaceEmbeddings\n",
    "\n",
    "from get_embedding import timing, get_embedding_model, wrap_embedding_query"
   ]
  },
  {
   "cell_type": "code",
   "execution_count": 2,
   "metadata": {},
   "outputs": [],
   "source": [
    "embed_log = logging.getLogger(__name__)\n",
    "embed_log.setLevel(logging.DEBUG)\n",
    "embed_log.addHandler(logging.StreamHandler())"
   ]
  },
  {
   "cell_type": "code",
   "execution_count": 3,
   "metadata": {},
   "outputs": [],
   "source": [
    "def get_latest_vector_path(vector_dir: str) -> Path:\n",
    "    store_path = Path(vector_dir)\n",
    "    list_of_files = store_path.glob(f\"*\")\n",
    "    latest_file = max(list_of_files, key=lambda p: p.stat().st_ctime)\n",
    "\n",
    "    embed_log.debug(f\"Reading {store_path.name} for latest an got {latest_file.name}\")\n",
    "    return latest_file"
   ]
  },
  {
   "cell_type": "code",
   "execution_count": 4,
   "metadata": {},
   "outputs": [
    {
     "name": "stderr",
     "output_type": "stream",
     "text": [
      "/home/xoph/.conda/envs/world_graph/lib/python3.11/site-packages/sentence_transformers/cross_encoder/CrossEncoder.py:11: TqdmWarning: IProgress not found. Please update jupyter and ipywidgets. See https://ipywidgets.readthedocs.io/en/stable/user_install.html\n",
      "  from tqdm.autonotebook import tqdm, trange\n",
      "func:get_embedding_model Time: 4.962897266999789\n"
     ]
    }
   ],
   "source": [
    "embedding = get_embedding_model()"
   ]
  },
  {
   "cell_type": "code",
   "execution_count": 5,
   "metadata": {},
   "outputs": [],
   "source": [
    "vector_dir = f\"/home/xoph/repos/github/nfroseth/world_graph/vectors/\""
   ]
  },
  {
   "cell_type": "code",
   "execution_count": 6,
   "metadata": {},
   "outputs": [
    {
     "name": "stderr",
     "output_type": "stream",
     "text": [
      "Reading vectors for latest an got Slip Box_Alibaba-NLP--gte-large-en-v1.5_2024-06-07_11:15:11.pkl\n"
     ]
    },
    {
     "name": "stdout",
     "output_type": "stream",
     "text": [
      "Index(['content_chunk', 'note_name', 'embedding'], dtype='object')=\n",
      "                                            content_chunk  \\\n",
      "count                                                   1   \n",
      "unique                                                  1   \n",
      "top     [page_content='## All  \\n```tasks\\nnot done\\nt...   \n",
      "freq                                                    1   \n",
      "\n",
      "                                                note_name  \\\n",
      "count                                                   1   \n",
      "unique                                                  1   \n",
      "top     [000 - Tasks_chunk_0, Chat-2024_03_28-13_03_44...   \n",
      "freq                                                    1   \n",
      "\n",
      "                                                embedding  \n",
      "count                                                   1  \n",
      "unique                                                  1  \n",
      "top     [[-0.7515473365783691, 0.4106312096118927, -0....  \n",
      "freq                                                    1  =\n"
     ]
    },
    {
     "data": {
      "text/html": [
       "<div>\n",
       "<style scoped>\n",
       "    .dataframe tbody tr th:only-of-type {\n",
       "        vertical-align: middle;\n",
       "    }\n",
       "\n",
       "    .dataframe tbody tr th {\n",
       "        vertical-align: top;\n",
       "    }\n",
       "\n",
       "    .dataframe thead th {\n",
       "        text-align: right;\n",
       "    }\n",
       "</style>\n",
       "<table border=\"1\" class=\"dataframe\">\n",
       "  <thead>\n",
       "    <tr style=\"text-align: right;\">\n",
       "      <th></th>\n",
       "      <th>content_chunk</th>\n",
       "      <th>note_name</th>\n",
       "      <th>embedding</th>\n",
       "    </tr>\n",
       "  </thead>\n",
       "  <tbody>\n",
       "    <tr>\n",
       "      <th>0</th>\n",
       "      <td>[page_content='## All  \\n```tasks\\nnot done\\nt...</td>\n",
       "      <td>[000 - Tasks_chunk_0, Chat-2024_03_28-13_03_44...</td>\n",
       "      <td>[[-0.7515473365783691, 0.4106312096118927, -0....</td>\n",
       "    </tr>\n",
       "  </tbody>\n",
       "</table>\n",
       "</div>"
      ],
      "text/plain": [
       "                                       content_chunk  \\\n",
       "0  [page_content='## All  \\n```tasks\\nnot done\\nt...   \n",
       "\n",
       "                                           note_name  \\\n",
       "0  [000 - Tasks_chunk_0, Chat-2024_03_28-13_03_44...   \n",
       "\n",
       "                                           embedding  \n",
       "0  [[-0.7515473365783691, 0.4106312096118927, -0....  "
      ]
     },
     "execution_count": 6,
     "metadata": {},
     "output_type": "execute_result"
    }
   ],
   "source": [
    "embedded_note_chunks_frame = pd.read_pickle(get_latest_vector_path(vector_dir))\n",
    "print(f\"{embedded_note_chunks_frame.columns}=\")\n",
    "print(f\"{embedded_note_chunks_frame.describe()}=\")\n",
    "embedded_note_chunks_frame"
   ]
  },
  {
   "cell_type": "code",
   "execution_count": 7,
   "metadata": {},
   "outputs": [
    {
     "data": {
      "text/plain": [
       "(52824, 1024)"
      ]
     },
     "execution_count": 7,
     "metadata": {},
     "output_type": "execute_result"
    }
   ],
   "source": [
    "vectors = np.array(embedded_note_chunks_frame.embedding.iloc[0])\n",
    "vectors.shape"
   ]
  },
  {
   "cell_type": "code",
   "execution_count": 8,
   "metadata": {},
   "outputs": [],
   "source": [
    "index = faiss.IndexFlatL2(vectors.shape[1])\n",
    "index.add(vectors)"
   ]
  },
  {
   "cell_type": "code",
   "execution_count": 13,
   "metadata": {},
   "outputs": [
    {
     "name": "stderr",
     "output_type": "stream",
     "text": [
      "Batches: 100%|██████████| 1/1 [00:00<00:00, 20.85it/s]\n",
      "func:wrap_embedding_query Time: 0.058296601000620285\n"
     ]
    },
    {
     "data": {
      "text/plain": [
       "(1, 1024)"
      ]
     },
     "execution_count": 13,
     "metadata": {},
     "output_type": "execute_result"
    }
   ],
   "source": [
    "query = \"Here is a list of the most important things that I would like to learn about Both in depth and breadth of knowledge \"\n",
    "query_vector = np.array([wrap_embedding_query(embedding, query)])\n",
    "query_vector.shape"
   ]
  },
  {
   "cell_type": "code",
   "execution_count": 19,
   "metadata": {},
   "outputs": [
    {
     "data": {
      "text/plain": [
       "array([[51429, 51425, 51435, 47869, 51436, 49399, 47377, 49398, 47525,\n",
       "        51427, 49397, 50486, 51432, 48516, 51758, 51437, 47414, 45435,\n",
       "        51431, 48998, 51518, 51420, 47527, 47534, 47378, 51410, 51423,\n",
       "        51417, 51784, 44612, 51128, 47745, 48425, 46470, 51422, 47532,\n",
       "        45521, 51781, 48410, 51421, 49455, 51418, 50381, 45805, 46473,\n",
       "        44664, 51424, 44324, 47526, 49041, 51360, 48195, 46471, 51339,\n",
       "        51071, 51407, 45685, 51344, 51434, 51756, 30629, 47787, 48424,\n",
       "        50389, 51426, 51763, 45404, 44085, 47538, 48547, 47524, 49454,\n",
       "        44657, 44638, 44387, 50440, 42871, 49431, 45152, 50279, 45885,\n",
       "        51430, 50339, 48233, 48652, 48197, 46689, 48312, 42774, 48517,\n",
       "        49379, 51345, 48169, 42857, 42874, 50313, 42853, 51516, 51003,\n",
       "        49096]])"
      ]
     },
     "execution_count": 19,
     "metadata": {},
     "output_type": "execute_result"
    }
   ],
   "source": [
    "# Example search query\n",
    "# query_vector = np.random.random((1, 1024)).astype('float32')\n",
    "D, I = index.search(query_vector, k=100)  # k ios the number of nearest neighbors to retrieve\n",
    "I"
   ]
  },
  {
   "cell_type": "code",
   "execution_count": 20,
   "metadata": {},
   "outputs": [
    {
     "name": "stdout",
     "output_type": "stream",
     "text": [
      "Question: Here is a list of the most important things that I would like to learn about Both in depth and breadth of knowledge  Similar Chunks:\n",
      "From All the many things I'd like to learn about. Exhaustively._chunk_20, page_content='### Social' metadata={'Header 1': \"All the many things I'd like to learn about. Exhaustively.\", 'Header 3': 'Social'}\n",
      "From All the many things I'd like to learn about. Exhaustively._chunk_16, page_content='### Career' metadata={'Header 1': \"All the many things I'd like to learn about. Exhaustively.\", 'Header 3': 'Career'}\n",
      "From All the many things I'd like to learn about. Exhaustively._chunk_26, page_content='### Sciences\\nChemistry\\nBiology\\nPharmacology' metadata={'Header 1': \"All the many things I'd like to learn about. Exhaustively.\", 'Header 3': 'Sciences'}\n",
      "From Index of Projects_chunk_9, page_content=\"## [[All the many things I'd like to learn about. Exhaustively.]]\" metadata={'Header 1': 'Projects', 'Header 2': \"[[All the many things I'd like to learn about. Exhaustively.]]\"}\n",
      "From All the many things I'd like to learn about. Exhaustively._chunk_27, page_content='### Math\\nRobust Trigonometry\\nPhysics\\nQuantum Electrodynamics\\nQuantum Computing\\nTheorems and Proofs' metadata={'Header 1': \"All the many things I'd like to learn about. Exhaustively.\", 'Header 3': 'Math'}\n",
      "From Things to Learn About 1.2_chunk_3, page_content=\"In the next Five Years I'd like to learn about:  \\n---\" metadata={'Header 1': 'Things to Learn About 1.2'}\n",
      "From External Mind Entrypoint_chunk_6, page_content=\"of my ability I would like to learn so much more in this world, and in this life. With prior efforts, such as: [[All the many things I'd like to learn about. Exhaustively.]]; [[Learning Query]] I've put some effort into detailing the things which\" metadata={'Header 1': 'External Mind Entrypoint', 'Header 2': 'Summary'}\n",
      "From Things to Learn About 1.2_chunk_2, page_content=\"Where are a list of time scales to put what I brain dump out:\\nIn the next week I'd like to learn about:\\nIn the next six weeks I'd like to learn about:\\nIn the next six months I'd like to learn about:\\nIn the next Two years I'd like to learn about:\" metadata={'Header 1': 'Things to Learn About 1.2'}\n",
      "From 1.2 Things to learn - Future Authoring Q1 2024_chunk_2, page_content=\"What would I like to learn more about?  \\nI'll go about picking a idea/area and expanding on it for a couple sentenences.\" metadata={'Header 1': '1.2 Future Authoring Q1 2023 Redo', 'Header 2': '1.2. Things to Learn About'}\n",
      "From All the many things I'd like to learn about. Exhaustively._chunk_18, page_content='I am able to express myself succinctly with the largest throughput I can manage.' metadata={'Header 1': \"All the many things I'd like to learn about. Exhaustively.\", 'Header 3': 'Career'}\n",
      "From Things to Learn About 1.2_chunk_1, page_content='# Things to Learn About 1.2\\nWhat would you like to learn more about, in the next six months? Two years? Five years?  \\nThink and write for at least two minutes, then move on. (2300 Characters total Max)' metadata={'Header 1': 'Things to Learn About 1.2'}\n",
      "From How To Master Data Structures & Algorithms_chunk_23, page_content='Ask someone else, \"Does this involve something I don\\'t know?\" Lessing the burden of the questions by **[[Building a spreadsheet of the topics you\\'ve learned]].**\\n- Yes? Go learn the thing, then come back\\n- No? Keep trying  \\n#### Never giving up' metadata={'Header 1': 'How To Master Data Structures & Algorithms', 'Header 2': 'Video Notes', 'Header 3': 'Random'}\n",
      "From All the many things I'd like to learn about. Exhaustively._chunk_23, page_content=\"I also believe there's a [[Ultralearning]] project, of improving Interpersonal relationships with [[Directness]], [[Drill]] and rapid [[Feedback]].\\nThe project could also lead to learning the basics of How to make a Sale. z\" metadata={'Header 1': \"All the many things I'd like to learn about. Exhaustively.\", 'Header 3': 'Social'}\n",
      "From Obsidian - The King of Learning Tools (FULL GUIDE + SETUP)_chunk_63, page_content='07:35 - 07:39: But if you want to understand it in depth, you have to know things from chemistry,\\n07:39 - 07:43: from physics, from biology, from ecology, to understand the bigger picture.' metadata={'Header 1': 'Obsidian - The King of Learning Tools (FULL GUIDE + SETUP)', 'Header 2': 'Video Transcription'}\n",
      "From One Thing_chunk_20, page_content='- Plants that absorb co2 for conversion to oxygen rapidly  \\nSkills:\\nMake a list of skills that I would like to acquire\\n- learn to shoot / gun permit\\n- learn to weld physical prototyping\\n- Plan to learn other languages\\n- Learn about Spaced repetition' metadata={'Header 1': 'One Thing', 'Header 3': 'Dreams / Mastery:'}\n",
      "From All the many things I'd like to learn about. Exhaustively._chunk_28, page_content='### Hardware\\nElectrical engineering' metadata={'Header 1': \"All the many things I'd like to learn about. Exhaustively.\", 'Header 3': 'Hardware'}\n",
      "From Workspace for Project Annotation_chunk_27, page_content=\"- Add a few things I'd like to learn about: Corporate Structures, Law, Taxes, and Accounting\\n##### Certificates\\n- Kubernetes Certificate see Tom Wu's resume\\n- Data Science Certificates or courses\\n- Linux admin Certificates\" metadata={'Header 1': 'Workspace for Project Annotation', 'Header 2': 'Table of Contents', 'Header 3': 'Career'}\n",
      "From 12-17-22_chunk_11, page_content=\"# Staging Workspace for Physical Notes\\nThere's  such a  broad range things which I see in the world and then want to learn more about. Truly the more you know, the more you learn, the\" metadata={'Header 1': 'Staging Workspace for Physical Notes'}\n",
      "From All the many things I'd like to learn about. Exhaustively._chunk_22, page_content=\"from Dale Carnegie's other book [[How to Win Friends & Influence People]] for leadership and interpersonal relationships.\" metadata={'Header 1': \"All the many things I'd like to learn about. Exhaustively.\", 'Header 3': 'Social'}\n",
      "From Learning Query_chunk_1, page_content='# Learning Query  \\n*The query I used to pull from my Second brain all simple references to things I\\'d like to learn about:*\\nignore-case:content:(learn OR learning OR skill OR /\\\\bability/) file:(-\"Future Authoring Q1 2023 Redo\")  \\n```query' metadata={'Header 1': 'Learning Query'}\n",
      "From Trigger List Example Template Student_chunk_11, page_content='▪ Hardware\\n▪ Connections\\n▪ CD/DVD Drive\\n▪ E-mail\\n▪ Internet\\n▪ Social Media\\n▪ Health care\\n▪ Doctors\\n▪ Dentists\\n▪ Specialists\\n▪ Hobbies\\n▪ Books\\n▪ CDs\\n▪ MP3s\\n▪ Podcasts\\n▪ Videos\\n▪ Apps\\n▪ Errands\\n▪ Hardware store\\n▪ Pharmacy\\n▪ Supermarket\\n▪ Bank' metadata={'Header 1': 'Trigger List Example Template Student', 'Header 3': 'School'}\n",
      "From All the many things I'd like to learn about. Exhaustively._chunk_11, page_content='Further expansion of my ability to express myself I believe would help quick develop ideas and move the thinking about things outside the brain grounding the process into reality.' metadata={'Header 1': \"All the many things I'd like to learn about. Exhaustively.\", 'Header 3': 'Throughput'}\n",
      "From 1.2 Things to learn - Future Authoring Q1 2024_chunk_4, page_content='further you ask more and more questions, the things you\\'d like to learn about, do, or try seems to grow at a faster rate than the things you can say you \"know\".' metadata={'Header 1': '1.2 Future Authoring Q1 2023 Redo', 'Header 2': '1.2. Things to Learn About'}\n",
      "From 1.2 Things to learn - Future Authoring Q1 2024_chunk_11, page_content=\"- See [[The Cult of Done]]\\n- Organizing myself and those who I'm responsible for to move most effectively towards the things which drive the greatest impact for our [[One Thing]]\\n- Creating a [[Reading List]]\" metadata={'Header 1': '1.2 Future Authoring Q1 2023 Redo', 'Header 2': '1.2. Things to Learn About', 'Header 3': 'Software Development'}\n",
      "From External Mind Entrypoint_chunk_7, page_content='detailing the things which come to mind on potential interests.' metadata={'Header 1': 'External Mind Entrypoint', 'Header 2': 'Summary'}\n",
      "From All the many things I'd like to learn about. Exhaustively._chunk_1, page_content=\"# All the many things I'd like to learn about. Exhaustively.  \\nSome thoughts without focus:\" metadata={'Header 1': \"All the many things I'd like to learn about. Exhaustively.\"}\n",
      "From All the many things I'd like to learn about. Exhaustively._chunk_14, page_content='I would like to take full literature notes over each of them providing myself a week to go through them to read and take notes. Starting on [[2-7-22 Into the grove]], I will read and review [[How to Stop Worrying and Start Living]] I will finish' metadata={'Header 1': \"All the many things I'd like to learn about. Exhaustively.\", 'Header 3': 'Meta [[Ultralearning]]'}\n",
      "From All the many things I'd like to learn about. Exhaustively._chunk_8, page_content='*Short hand physical notes*\\nLearn to code things efficiently for better overall [[Capture]], from notes when speaking to another person to being away from a preferred electronic capture device.\\n*Spelling*  \\n*Vocabulary*  \\n*Public Speaking*' metadata={'Header 1': \"All the many things I'd like to learn about. Exhaustively.\", 'Header 3': 'English Language'}\n",
      "From Guiding your own interest_chunk_4, page_content='---' metadata={'Header 1': 'Guiding your own interest'}\n",
      "From 1-25-22 Take full thought out of the mind_chunk_8, page_content='- What are the most valuable things in my apartment?\\n- What sort of meta system review could be performed weekly to make sure that I am continuing on the path I would like?' metadata={'Header 1': '1-25-22 Take full thought out of the mind'}\n",
      "From Good Faith Scheduling with Time blocks_chunk_9, page_content='# References\\n[[The One Thing]]' metadata={'Header 1': 'References'}\n",
      "From Future Authoring_chunk_6, page_content='## An Index for Future Authoring Notes:\\n[[One Thing You Could Do Better 1.1]]\\n[[Things to Learn About 1.2]]\\n[[Improve Your Habits 1.3]]\\n[[Your Social Life in the Future 1.4]]\\n[[Your Leisure Activity in the Future 1.5]]' metadata={'Header 1': 'Future Authoring', 'Header 2': 'An Index for Future Authoring Notes:'}\n",
      "From Ordering my thoughts about my interests, learning, and development._chunk_2, page_content=\"Using the [[Learning Query]], and other methods of mining my [[External Mind]], pull all related items/open loops about my interests, the things I'd like to learn about and internal commitments I have towards personal development.  \\n---\" metadata={'Header 1': 'Ordering my thoughts about my interests, learning, and development.'}\n",
      "From 5-5-23_chunk_3, page_content='## Important things to me:' metadata={'Header 1': 'Place to think', 'Header 2': 'Important things to me:'}\n",
      "From All the many things I'd like to learn about. Exhaustively._chunk_13, page_content='### Meta [[Ultralearning]]\\nI would like to become more efficient and better at learning and acquiring new skills.\\nThe next step on broad goal is the reading and reviewing of the [[The most valuable books to review]].' metadata={'Header 1': \"All the many things I'd like to learn about. Exhaustively.\", 'Header 3': 'Meta [[Ultralearning]]'}\n",
      "From 1.2 Things to learn - Future Authoring Q1 2024_chunk_9, page_content='Within software development there are a handful of component skills and a handful of adjacent skills which I would like to learn as well.  \\nThose components of software development are:\\n- System Design\\n- Developer workflow\\n- Algorithm Fundamentals' metadata={'Header 1': '1.2 Future Authoring Q1 2023 Redo', 'Header 2': '1.2. Things to Learn About', 'Header 3': 'Software Development'}\n",
      "From 4-11-23_chunk_5, page_content='- Create a meditation spreadsheet and notes section for detailing physical notes from [[Waking Up]] theory, and the direction I should take my practice.\\n- Find a Wireless split keyboard design I like' metadata={'Header 1': '04-11-2023', 'Header 2': \"Top of mind To-do's\"}\n",
      "From Guiding your own interest_chunk_1, page_content='# Guiding your own interest' metadata={'Header 1': 'Guiding your own interest'}\n",
      "From Self Dialog, Just write and think_chunk_5, page_content='### 1.2. Things to Learn About  \\nWhat would you like to learn more about, in the next six months? Two years? Five years?  \\nThink and write for at least two minutes, then move on.  \\n---' metadata={'Header 1': 'Self Dialog, Just write and think', 'Header 3': '1.2. Things to Learn About'}\n",
      "From All the many things I'd like to learn about. Exhaustively._chunk_12, page_content='That is learning to Sketch portraits, and common objects very well leading to sketching contraptions and such.  \\nPerhaps learning to use an AutoCad Software to quickly and effectively create models. To then 3d print those objects.' metadata={'Header 1': \"All the many things I'd like to learn about. Exhaustively.\", 'Header 3': 'Throughput'}\n",
      "From Boundary Interface with reality_chunk_11, page_content='This is not an exhaustive list nor immutable. Nevertheless, each component ought to be identified and practiced independently. The hope is to figure out a system to improve each attribute of the ability to express such that a single attribute could' metadata={'Header 1': 'Boundary Interface with reality'}\n",
      "From All the many things I'd like to learn about. Exhaustively._chunk_9, page_content='*Public Speaking*  \\n*Dictation*' metadata={'Header 1': \"All the many things I'd like to learn about. Exhaustively.\", 'Header 3': 'English Language'}\n",
      "From How I Remember Everything I Read_chunk_29, page_content='## Take away:' metadata={'Header 1': 'How I Remember Everything I Read', 'Header 2': 'Take away:'}\n",
      "From 1-23-22 Review determining feedback_chunk_8, page_content='- Hopeful. I have all that I need, now I must learn what I must do.' metadata={'Header 1': '01-23-2022', 'Header 2': 'Morning'}\n",
      "From 5-5-23_chunk_6, page_content='- Food with Meal planning\\n- Gym with planning\\n- Finances overhaul\\n- Personal endeavors\\n- Aggregated Health markers\\n- Style searching and look creating\\n- Formalize and structure high density fun\\n- Video Games\\n- Board Games\\n- Dnd' metadata={'Header 1': 'Place to think', 'Header 2': 'Important things to me:'}\n",
      "From 1-25-22 Take full thought out of the mind_chunk_60, page_content='- Why pick hot topics? Perhaps it would be best to look for those things that are overlooked, yet given the effort, have a potential for revolutionary change?' metadata={'Header 1': '1-25-22 Take full thought out of the mind'}\n",
      "From All the many things I'd like to learn about. Exhaustively._chunk_15, page_content='Start Living]] I will finish reviewing and taking literature notes over the full book by [[2-13-22 Figuring out how to get things done]].' metadata={'Header 1': \"All the many things I'd like to learn about. Exhaustively.\", 'Header 3': 'Meta [[Ultralearning]]'}\n",
      "From 12-16-22_chunk_4, page_content='the things you know you ought to do.' metadata={'Header 1': '12-16-2022', 'Header 2': 'Morning'}\n",
      "From 1.2 Things to learn - Future Authoring Q1 2024_chunk_3, page_content=\"Again I'm reminded of an ancient truth, one of the oldest and most profound human truths: The more you learn about any one topic the questions you're then able to ask. As you push the boundary of knowledge further and further you ask more and more\" metadata={'Header 1': '1.2 Future Authoring Q1 2023 Redo', 'Header 2': '1.2. Things to Learn About'}\n",
      "From Your Family Life in the Future 1.6_chunk_11, page_content='the catalog of everything he has experienced. I must acknowledge, it will not be perfect, but think on how much you’ll miss and how you’ll feel as if you squandered the chance to learn what you can. I’d like to go through this same process with my' metadata={'Header 1': 'Your Family Life in the Future 1.6'}\n",
      "From Career Voice Notes Attempt 1_chunk_56, page_content=\"Being interested in conservation ecology biology herbalism botany all of these areas and having a channel where we're able to explore the everything from the bottom up the top down at different levels of complexity would be super exciting and\" metadata={'Header 1': 'Career Voice Notes Attempt 1'}\n",
      "From One Thing You Could Do Better 1.1_chunk_11, page_content=\"I'm good at sitting, accumulating more and more knowledge and information. I have consumed at such a ravenous rate in my 21 years of life, I have finally found a way to compound and make something of the firehouse stream of content and media I flood\" metadata={'Header 1': 'One Thing You Could Do Better 1.1'}\n",
      "From 5-5-23_chunk_4, page_content=\"There are a couple of important things I've identified in my many iterations of improvement. I've come to the following list by asking my self some version of the [[The Focusing Question]] within a time frame or some internal commitment I have:\" metadata={'Header 1': 'Place to think', 'Header 2': 'Important things to me:'}\n",
      "From Career Voice Notes Attempt 1_chunk_35, page_content='working on just those. And so we come back to the point and come back to the organizing question yes it will be interesting and exciting and fun to learn about new things but what things should learn about and how hot you focus yourself for those' metadata={'Header 1': 'Career Voice Notes Attempt 1'}\n",
      "From My personal slip box_chunk_11, page_content=\"I'll begin on the master document, to detail the system as I best understand it and then implement toward what I think is best.  \\n---\" metadata={'Header 1': 'My personal slip box'}\n",
      "From Make hard things easy to start_chunk_12, page_content='---' metadata={'Header 1': 'Make hard things easy to start'}\n",
      "From 12-30-22_chunk_7, page_content='the things I ought to work towards.' metadata={'Header 1': '12-30-2022', 'Header 2': 'Morning'}\n",
      "From Career Voice Notes Attempt 1_chunk_40, page_content='the type of structure that I Envision for them at this point. A chemist learning about the interactions of different materials in the world a biologist but animals and conservation the methods of which they do the different things that they do in' metadata={'Header 1': 'Career Voice Notes Attempt 1'}\n",
      "From All the many things I'd like to learn about. Exhaustively._chunk_25, page_content='### Visual Arts\\nLearning to Sketch and draw things' metadata={'Header 1': \"All the many things I'd like to learn about. Exhaustively.\", 'Header 3': 'Visual Arts'}\n",
      "From One Thing_chunk_18, page_content='- 2000 Powerlifting Total\\n- Designing AI algorithms for Quantum computers\\n- TPU -> QPU (Quantum processing Unit)\\n- Phd in Physics\\n- Phd in Computer Science\\n- Designing circuits\\n- Lots of math\\n- Have a seat at the table that determines our future' metadata={'Header 1': 'One Thing', 'Header 3': 'Dreams / Mastery:'}\n",
      "From How To Master Data Structures & Algorithms 2023-03-16 15.14.59.excalidraw_chunk_2, page_content='known topics ^Wa5dn3my  \\nMock Interviews\\n^fg4wSg5f  \\nstart with Easy,\\nthen Medium within a topic,\\nfinally moving to Hard ^PF7eKjeF  \\n%%' metadata={'Header 1': 'Text Elements'}\n",
      "From Checklists_chunk_4, page_content=\"- Make a Brain Dump list of all the Habits I'd like to add the Checklist\" metadata={'Header 1': 'Checklists'}\n",
      "From Ordering my thoughts about my interests, learning, and development._chunk_1, page_content='# Ordering my thoughts about my interests, learning, and development.' metadata={'Header 1': 'Ordering my thoughts about my interests, learning, and development.'}\n",
      "From How I Remember Everything I Read_chunk_37, page_content='---' metadata={'Header 1': 'How I Remember Everything I Read', 'Header 2': 'Take away:'}\n",
      "From All the many things I'd like to learn about. Exhaustively._chunk_17, page_content=\"In my career, I'd like to develop and learn the skills necessary to most effectively and efficiently interface with the computer. I'd like to continue to decrease the [[Boundary Interface with reality]] such that I am able to express myself\" metadata={'Header 1': \"All the many things I'd like to learn about. Exhaustively.\", 'Header 3': 'Career'}\n",
      "From One Thing_chunk_25, page_content='Repeated: What is the One Thing I can do such that by doing it, everything else will become easier or unnecessary?  \\nAsking the best questions, or the flip side, learning how to learn.' metadata={'Header 1': 'One Thing', 'Header 2': 'Focused'}\n",
      "From 10-26-22_chunk_5, page_content='- I am grateful for the wealth of Knowledge at my finger tips. It is truly amazing the only thing holding any individual back from learning all they can is all that they want. For access to some of the best resources to ever exist for everyone an' metadata={'Header 1': '10-26-2022', 'Header 2': 'Morning'}\n",
      "From 10-17-22_chunk_6, page_content='Those areas of life I would like to aggregate the information around me and from my Brain are:\\nMust define today:\\n- [[Strength Training]]\\n- Career with [[Paycom Work]] being in VA' metadata={'Header 1': '10-17-2022', 'Header 2': 'Morning'}\n",
      "From 1.2 Things to learn - Future Authoring Q1 2024_chunk_15, page_content='### Learning how much is enough' metadata={'Header 1': '1.2 Future Authoring Q1 2023 Redo', 'Header 2': '1.2. Things to Learn About', 'Header 3': 'Learning how much is enough'}\n",
      "From Obsidian - The King of Learning Tools (FULL GUIDE + SETUP)_chunk_94, page_content='11:46 - 11:52: With some simple organization of his notes, he begins to see these areas of interest form around certain topics.\\n11:52 - 11:55: In the case of obsidian, this can be literal clusters that begin to form.' metadata={'Header 1': 'Obsidian - The King of Learning Tools (FULL GUIDE + SETUP)', 'Header 2': 'Video Transcription'}\n",
      "From 1.2 Things to learn - Future Authoring Q1 2024_chunk_1, page_content='# 1.2 Future Authoring Q1 2023 Redo  \\n## 1.2. Things to Learn About\\nWhat would you like to learn more about, in the next six months? Two years? Five years?\\nThink and write for at least two minutes, then move on. Max Characters 2000 Starting at 300' metadata={'Header 1': '1.2 Future Authoring Q1 2023 Redo', 'Header 2': '1.2. Things to Learn About'}\n",
      "From Boundary Interface with reality_chunk_10, page_content='Example: Bold of important titles, highlight key details, and readability of the information.' metadata={'Header 1': 'Boundary Interface with reality'}\n",
      "From 1-25-22 Take full thought out of the mind_chunk_53, page_content='-   Personal development\\n-  Lifting Nutrition and health\\n-  Fashion and looks maxing (Modeling?)\\n-  Business\\n-  Leadership\\n-  Meditation\\n-  Relationship\\n- Learn what the contaminants and health optimizations that are worth following through on' metadata={'Header 1': '1-25-22 Take full thought out of the mind'}\n",
      "From 1-25-22 Take full thought out of the mind_chunk_34, page_content=\"- I already found the few books that I need to go over next, I need to simply make sure there's the time each day for what is most important. How much time can I put toward the things I find most useful each day? All of it? One can hope.\" metadata={'Header 1': '1-25-22 Take full thought out of the mind'}\n",
      "From 3-11-20 Define what and why something is important_chunk_2, page_content='Also, explaining what is the next step for completing or removing it from the list  \\n---' metadata={'Header 1': '3-11-20 Define what and why something is important'}\n",
      "From Learning about Cleaning - This should be REQUIRED viewing before graduating high school!_chunk_2, page_content='## Video Notes  \\n---' metadata={'Header 1': 'Learning about Cleaning - This should be REQUIRED viewing before graduating high school!', 'Header 2': 'Video Notes'}\n",
      "From How to Take Smart Notes_chunk_79, page_content='### 10.3 Get the Gist\\nBeing able to determine what is relevant and what is not can only be cultivated from the exercise of doing.' metadata={'Header 1': 'How to Take Smart Notes', 'Header 2': '6 Simplicity is paramount', 'Header 3': '10.3 Get the Gist'}\n",
      "From The most valuable books to review_chunk_1, page_content=\"# The most valuable books to review  \\nHere is a self generated list of the most valuable books I'd like to review for personal integration:  \\n[[Expectation Effect]]\\n[[Ultralearning]]\\n[[The One Thing]]\\n[[How to Take Smart Notes]]\" metadata={'Header 1': 'The most valuable books to review'}\n",
      "From 1-10-23_chunk_14, page_content=\"I've sat and though hard about what I would look like to to answer all these questions from the top down, but I'm not really surethat i can, or even if I did that it would help. Welll, I know that not to be true, I've already made progress on the\" metadata={'Header 1': '01-10-2023', 'Header 2': 'Morning'}\n",
      "From Maximizing Deep Work hours across the month through wellbeing_chunk_4, page_content='The One Thing I can do such that by doing it everything else will be easier or unnecessary, to maximize my learning rate for each topic to explore.' metadata={'Header 1': 'Maximizing Deep Work hours across the month through wellbeing', 'Header 2': 'What', 'Header 3': 'Answering the Focusing Questions Second Attempt'}\n",
      "From 8-3-22 Being sure to follow through in outside environments_chunk_21, page_content='know what I should do.' metadata={'Header 1': '08-03-2022', 'Header 2': 'Evening'}\n",
      "From All the many things I'd like to learn about. Exhaustively._chunk_21, page_content=\"I'd like to learn the skills of leadership and confidence from [[Public Speaking]]. I have a pamphlet from Dale Carnegie's training labeled [[Speak More Effectively]]. Furthermore, I'd like to review and implement the knowledge from Dale Carnegie's\" metadata={'Header 1': \"All the many things I'd like to learn about. Exhaustively.\", 'Header 3': 'Social'}\n",
      "From Your Social Life in the Future 1.4_chunk_12, page_content='a narrow yet deep subject, or a person that shares a broad interest with me, such as Mechanical Keyboards, Gym, or activities I could do with some else.' metadata={'Header 1': 'Your Social Life in the Future 1.4'}\n",
      "From Attempt to capture everything and lessons learned_chunk_3, page_content='how a single concept must be fully embraced to then build the feedback loops of adoption and usefulness. The conclusion I then came to was the extreme position: I will do the most extreme thing and capture every thought and then allocated time' metadata={'Header 1': 'Attempt to capture everything and lessons learned'}\n",
      "From Obsidian - The King of Learning Tools (FULL GUIDE + SETUP)_chunk_199, page_content='25:45 - 25:47: or maybe something I underlined that was interesting,\\n25:47 - 25:49: I make sure to write the page number down.\\n25:49 - 25:50: And maybe a relevant quote.\\n25:51 - 25:53: Below this note, I then expand on the topic in my own words.' metadata={'Header 1': 'Obsidian - The King of Learning Tools (FULL GUIDE + SETUP)', 'Header 2': 'Video Transcription'}\n",
      "From One Thing You Could Do Better 1.1_chunk_13, page_content='of whatever can grab and hold my attention the longest or most completely.' metadata={'Header 1': 'One Thing You Could Do Better 1.1'}\n",
      "From 2-6-22 Make the most of the day_chunk_16, page_content='# References\\nhttps://www.youtube.com/watch?v=3znAl0QH1eEA' metadata={'Header 1': 'References'}\n",
      "From Computer Science knowledge and career_chunk_9, page_content=\"Research other resources found online and recommended by people I've spoken with who have  \\n##### Task: Importance and depth of System Design principles\" metadata={'Header 1': 'Computer Science knowledge and career', 'Header 3': 'Project: New Career Position'}\n",
      "From The One Thing_chunk_19, page_content='the thoughts who live in my head.  So an amendment I am considering is to become an expert in getting the gist of something. Taking summarizing or transforming the underlying importance of the communication.' metadata={'Header 1': 'The One Thing', 'Header 2': '14 Live by Priority'}\n",
      "From Obsidian - The King of Learning Tools (FULL GUIDE + SETUP)_chunk_64, page_content='07:43 - 07:46: You have to pull ideas from all four of these subjects.\\n07:46 - 07:50: And if you fail to understand something in that chain of reasoning, you might not get the whole thing.' metadata={'Header 1': 'Obsidian - The King of Learning Tools (FULL GUIDE + SETUP)', 'Header 2': 'Video Transcription'}\n",
      "From Strength Training_chunk_10, page_content='# References\\nhttps://docs.google.com/document/d/116fApXFEcxYc4atgA72opABNndk_c2R1EwyBm_4m690/edit?usp=sharing' metadata={'Header 1': 'References'}\n",
      "From Career Voice Notes Attempt 1_chunk_41, page_content='things that they do in the world of the best that they can do them learning from them to make innovations, a herbalist developing new and exciting species of Flora understanding how they work cultivating them. Creating an advanced learning Institute' metadata={'Header 1': 'Career Voice Notes Attempt 1'}\n",
      "From Time Block_chunk_10, page_content='[[The One Thing]] ask you to define the big picture and reclusively walk back the steps required by asking [[The One Thing#The Focusing Question]] with smaller and smaller time frames. The Time Block is tool to narrow your focus to what matters the' metadata={'Header 1': 'Time Block'}\n",
      "From How to Take Smart Notes_chunk_65, page_content='Box/Inbox/Open Loop]]s that occupy our minds, start there with your interests or what ever sticks in your head.' metadata={'Header 1': 'How to Take Smart Notes', 'Header 2': '1 Everything you Need to Know', 'Header 3': '2.1 Writing a paper Step by Step'}\n",
      "From How to Take Smart Notes_chunk_82, page_content='Sounds like the English classes that I remember.' metadata={'Header 1': 'How to Take Smart Notes', 'Header 2': '6 Simplicity is paramount', 'Header 3': '10.3 Get the Gist'}\n",
      "From Maximizing Deep Work hours across the month through wellbeing_chunk_38, page_content='# References  \\nhttps://docs.google.com/document/d/17BawVUBVLyxLcjwS6c-whOk8GDoUZGZejad-PbairRg/edit?usp=sharing  \\nhttps://www.youtube.com/watch?v=hNOvHlfVdnQ' metadata={'Header 1': 'References'}\n",
      "From How to Take Smart Notes_chunk_61, page_content=\"As you've created notes with a Bottom up approach determine what are the topics, question and projects that have been fabricated from the lines of inquiry in the slip box. Look to what holes there are, do more reading to develop and change\" metadata={'Header 1': 'How to Take Smart Notes', 'Header 2': '1 Everything you Need to Know', 'Header 3': '2.1 Writing a paper Step by Step'}\n",
      "From Trigger List Example Template Student_chunk_9, page_content='▪ Administration\\n▪ Financial\\n▪ Bills\\n▪ Banks\\n▪ Investments\\n▪ Loans\\n▪ Taxes\\n▪ Insurance\\n▪ Legal affairs\\n▪ Filing\\n▪ Waiting for...\\n▪ Mail order\\n▪ Repair\\n▪ Reimbursements\\n▪ Loaned items\\n▪ Medical data\\n▪ RSVPs\\n▪ Home/household\\n▪ Landscape' metadata={'Header 1': 'Trigger List Example Template Student', 'Header 3': 'School'}\n",
      "From Qualities You Admire 1.8_chunk_6, page_content='and sway so many people to reach in and pull them from their core.' metadata={'Header 1': 'Qualities You Admire 1.8'}\n",
      "From Self Maximize (Introduction)_chunk_4, page_content='# References\\n[Self Maximize (Introduction)](https://www.youtube.com/watch?v=hREY1FJmqpU)' metadata={'Header 1': 'References'}\n"
     ]
    }
   ],
   "source": [
    "print(f\"Question: {query} Similar Chunks:\")\n",
    "for idx in I[0]:\n",
    "    retrieved_content = embedded_note_chunks_frame.content_chunk.iloc[0][idx]\n",
    "    retrieved_chunk_name = embedded_note_chunks_frame.note_name.iloc[0][idx]\n",
    "    print(f\"From {retrieved_chunk_name}, {retrieved_content}\")"
   ]
  }
 ],
 "metadata": {
  "kernelspec": {
   "display_name": "world_graph",
   "language": "python",
   "name": "python3"
  },
  "language_info": {
   "codemirror_mode": {
    "name": "ipython",
    "version": 3
   },
   "file_extension": ".py",
   "mimetype": "text/x-python",
   "name": "python",
   "nbconvert_exporter": "python",
   "pygments_lexer": "ipython3",
   "version": "3.11.0"
  }
 },
 "nbformat": 4,
 "nbformat_minor": 2
}
