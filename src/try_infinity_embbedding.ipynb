{
 "cells": [
  {
   "cell_type": "code",
   "execution_count": null,
   "id": "0541b2cb-af8f-45df-8bdd-bf57cc56642b",
   "metadata": {},
   "outputs": [],
   "source": [
    "import requests\n",
    "from typing import List"
   ]
  },
  {
   "cell_type": "code",
   "execution_count": null,
   "id": "7632eba0-802b-4522-a234-648276a1c3c6",
   "metadata": {},
   "outputs": [],
   "source": [
    "def get_embedding(text: str) -> List[float]:\n",
    "    results = requests.post(\n",
    "        \"http://127.0.0.1:7997/embeddings\",\n",
    "        json={\"model\": \"mixedbread-ai/mxbai-embed-large-v1\", \"input\": [text]},\n",
    "    )\n",
    "    return results.json()[\"data\"][0][\"embedding\"]"
   ]
  },
  {
   "cell_type": "code",
   "execution_count": null,
   "id": "1b870223-755d-4cb0-bd2f-3aba0b7aa715",
   "metadata": {},
   "outputs": [],
   "source": [
    "results = requests.post(\"http://127.0.0.1:7997/embeddings\",\n",
    "    json={\"model\":\"BAAI/bge-small-en-v1.5\",\"input\":[\"A sentence to encode.\"]})"
   ]
  },
  {
   "cell_type": "code",
   "execution_count": null,
   "id": "2818e928",
   "metadata": {},
   "outputs": [],
   "source": [
    "results = get_embedding(\"A sentence to test.\")"
   ]
  },
  {
   "cell_type": "code",
   "execution_count": null,
   "id": "cfc02da3-94c7-45e3-993d-6ad2f9f16a87",
   "metadata": {},
   "outputs": [],
   "source": [
    "len(results)"
   ]
  },
  {
   "cell_type": "code",
   "execution_count": null,
   "id": "1fb40936-2b27-416a-a8b6-b0951eb92cc5",
   "metadata": {},
   "outputs": [],
   "source": [
    "def get_rerank(text: str, documents: List[str]):\n",
    "    results = requests.post(\n",
    "        \"http://127.0.0.1:7997/rerank\",\n",
    "        json={\n",
    "            # \"model\": \"jinaai/jina-reranker-v1-turbo-en\",\n",
    "            # \"model\": \"BAAI/bge-reranker-base\",\n",
    "            \"model\": \"mixedbread-ai/mxbai-rerank-xsmall-v1\",\n",
    "            \"query\": text,\n",
    "            \"documents\": documents,\n",
    "        },\n",
    "    )\n",
    "    return results.json()[\"results\"]"
   ]
  },
  {
   "cell_type": "code",
   "execution_count": null,
   "id": "f32539da",
   "metadata": {},
   "outputs": [],
   "source": [
    "results = get_rerank(\n",
    "    \"Where is Munich?\",\n",
    "    [\"Munich is in Germany.\", \"The sky is blue.\", \"Germany has the best bread.\"],\n",
    ")"
   ]
  },
  {
   "cell_type": "code",
   "execution_count": null,
   "id": "5d1f8cdb",
   "metadata": {},
   "outputs": [],
   "source": [
    "results"
   ]
  },
  {
   "cell_type": "code",
   "execution_count": null,
   "id": "d8ea5c9d",
   "metadata": {},
   "outputs": [],
   "source": [
    "import requests\n",
    "\n",
    "clip_results = requests.post(\n",
    "    \"http://127.0.0.1:7997/embeddings_image\",\n",
    "    json={\n",
    "        \"model\": \"jinaai/jina-clip-v1\",\n",
    "        \"input\": [\"http://images.cocodataset.org/val2017/000000039769.jpg\"],\n",
    "    },\n",
    ")"
   ]
  },
  {
   "cell_type": "code",
   "execution_count": null,
   "id": "f84aab14",
   "metadata": {},
   "outputs": [],
   "source": [
    "clip_results.json()[\"data\"][0][\"embedding\"]"
   ]
  },
  {
   "cell_type": "code",
   "execution_count": null,
   "id": "2cf024e4",
   "metadata": {},
   "outputs": [],
   "source": [
    "[1,2,3,4][0,2]]"
   ]
  }
 ],
 "metadata": {
  "kernelspec": {
   "display_name": "Python 3 (ipykernel)",
   "language": "python",
   "name": "python3"
  },
  "language_info": {
   "codemirror_mode": {
    "name": "ipython",
    "version": 3
   },
   "file_extension": ".py",
   "mimetype": "text/x-python",
   "name": "python",
   "nbconvert_exporter": "python",
   "pygments_lexer": "ipython3",
   "version": "3.11.0"
  }
 },
 "nbformat": 4,
 "nbformat_minor": 5
}
