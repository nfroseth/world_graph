{
 "cells": [
  {
   "cell_type": "code",
   "execution_count": 1,
   "id": "51e680f5-aa90-429b-84a2-e2c776f88d3c",
   "metadata": {},
   "outputs": [],
   "source": [
    "from parse_obsidian_vault import ObsidianVault, MarkdownThenRecursiveSplit\n",
    "from pprint import pprint"
   ]
  },
  {
   "cell_type": "code",
   "execution_count": 2,
   "id": "e1ab11b0-8ee8-4948-808a-aa9aa16c20ec",
   "metadata": {},
   "outputs": [
    {
     "name": "stderr",
     "output_type": "stream",
     "text": [
      "Starting the parsing of obsidian vault\n",
      "0it [00:00, ?it/s]note_properties={'aliases': ['Good Faith Schedule'], 'tags': ['daily_journal', 'finance'], 'obsidian_note_property_id': '/mnt/c/Users/Xoph-Lap/Documents/Slip Box/Slip Box/00 Slip Box/Refinement/Good Faith Schedule.md'}\n",
      "note_properties={'aliases': ['So', 'Cool'], 'tags': ['daily_journal', 'person', 'person/stranger']}\n",
      "note_properties={'cuid': 'human202208041012', 'alias': ['👤 Blake Moore', 'Blake Moore', 'Blake', 'BDubs'], 'tags': ['person', 'person/friends', 'person/closefriends', 'person/friends/close']}\n",
      "3it [00:00, 342.30it/s]\n",
      "Finished parsing notes\n"
     ]
    }
   ],
   "source": [
    "# vault_path = \"/home/xoph/SlipBoxCopy/Slip Box\"\n",
    "vault_path = \"/home/xoph/repos/github/nfroseth/world_graph/test_vault\"\n",
    "splitter = MarkdownThenRecursiveSplit(chunk_size = 512, chunk_overlap = 64)\n",
    "\n",
    "vault = ObsidianVault(vault_path=vault_path, vault_name=\"TEST_VAULT\")\n",
    "vault.parse_obsidian_vault(splitter = splitter )\n",
    "parsed_notes = vault.parsed_notes"
   ]
  },
  {
   "cell_type": "code",
   "execution_count": 5,
   "id": "141a2cc5-3fdd-4809-b568-975d70264af8",
   "metadata": {},
   "outputs": [
    {
     "name": "stdout",
     "output_type": "stream",
     "text": [
      "=== Chunk idx:0\n",
      "page_content='202201150130  \\nStatus: #idea  \\nTags  \\nFleeting Notes on:'\n",
      "=== Chunk idx:1\n",
      "page_content='# Good Faith Schedule\\nElaborating on [[Good Faith Scheduling with Time blocks]]' metadata={'Header 1': 'Good Faith Schedule'}\n",
      "=== Chunk idx:2\n",
      "page_content='#### Questions to guide\\nWhat is my one thing?\\nWhat are the principles I ought to use when creating a schedule/routine?\\ntherhe' metadata={'Header 1': 'Good Faith Schedule', 'Header 4': 'Questions to guide'}\n",
      "=== Chunk idx:3\n",
      "page_content='#### Principles/Constraints  \\nFor good health:\\nI will attempt to[[Sleep]] 9 hours every night.  \\nFor good lifting:  \\nAn excerpt to build on from [[Good Faith Scheduling with Time blocks#^70e04e]]  \\nKey: {Time Allotment } [[Links to Elaboration]] (Explanation of implementation)  \\n**Mornings Routine Start** {2h 20m}\\n- Wake up at 8:15 am {5 m}\\n- Make bed\\n- Piss\\n- Take morning [[Supplements]]\\n- Brush teeth\\n- [[Weight myself]]\\n- Get clothing for the day (Picked out the Sunday before)' metadata={'Header 1': 'Good Faith Schedule', 'Header 4': 'Principles/Constraints'}\n",
      "=== Chunk idx:4\n",
      "page_content='- Get clothing for the day (Picked out the Sunday before)\\n- Login to Work (Horizon) {5 m}\\n- Boot computer\\n- Get on teams [[Use second phone for teams]]\\n- Journal {20 m}\\n- Make a new daily entry with the Daily Minimal Journal template\\n- Prepare or Get Food {TBD?} *9:00 am Small First Meal*\\n- Look to [[Food]] Batching for reduced time for Preparation (Consider make a clear recipe and portions so another person could complete the task)' metadata={'Header 1': 'Good Faith Schedule', 'Header 4': 'Principles/Constraints'}\n",
      "=== Chunk idx:5\n",
      "page_content='- Consider moving Food up further for the sake of Bulking and Down for cutting\\n- Write {30 m}{Concurrency with Eating and Preparing Food. }\\n- Thoughts\\n- Make permanent notes\\n- Walk {30 m}\\n- Walk around the Neighborhood to the west of Rockwell\\n- Typing Practice {20 m}\\n- Complete 15 minutes on EdClub\\n- Few tests on Monkey Type\\n- Meditate {20 m}\\n- Use Headspace to focus on breath  \\n**Mornings Routine End**  \\nAnchor 10:30 am. Back from my walk and completed most habitual tasks for the day.' metadata={'Header 1': 'Good Faith Schedule', 'Header 4': 'Principles/Constraints'}\n",
      "=== Chunk idx:6\n",
      "page_content='**Time Block Start:** {5h}\\n- Focus session {1h} (25m Sessions to get over starting)\\n- Eat Meal at 11:30 am {20 m}\\n- Focus session {2h}\\n- Anchor 2:00 pm\\n- Eat Meal {20 m}\\n- Focus session {1h} (25m Sessions to get over starting)\\n**Time Block End**  \\n**Gym Block Start**\\n- Gym Prep {20 m}\\n- [[Pre Gym Snack]]\\n- Drive {10m}\\n- Be at gym by 4:15 pm, leave house by 4:00 pm\\n- [[Training]] (Focused with high purpose/intensity) {1h 15m}\\n- Done with work out at 5:30 pm\\n- Drive Home\\n- Drink [[Protein Shake]]' metadata={'Header 1': 'Good Faith Schedule', 'Header 4': 'Principles/Constraints'}\n",
      "=== Chunk idx:7\n",
      "page_content='- Drive Home\\n- Drink [[Protein Shake]]\\n- Eat Post Carbs\\n- Shower\\n- Anchor 6:00 pm\\n**Gym Block End**  \\n**Time Block Start:** {4.5h}\\n- Focus session {1.5h} (25m Sessions to get over starting)\\n- Cook and Eat Meal at 7:30pm {1h }\\n- Talk to Parents\\n- Cook\\n- Eat\\n- [[Chores]]\\n- Open Window to Cool Bed room\\n- Focus session {1.75h}\\n- Journal in the Evening {10m}\\n- Evening Journal\\n- Wind down {5m}\\n**Time Block End**  \\nAnchor 11:00 pm\\n- Fall Asleep {15m}\\n-  Sleep {9h}  \\n---' metadata={'Header 1': 'Good Faith Schedule', 'Header 4': 'Principles/Constraints'}\n",
      "=== Chunk idx:8\n",
      "page_content='# References' metadata={'Header 1': 'References'}\n"
     ]
    }
   ],
   "source": [
    "for idx, doc in enumerate(parsed_notes[\"Good Faith Schedule\"].properties[\"chunks\"]):\n",
    "    # for line in doc.page_content.split(\"\\n\"):\n",
    "    print(f\"=== Chunk idx:{idx}\")\n",
    "    print(doc)"
   ]
  },
  {
   "cell_type": "code",
   "execution_count": 4,
   "id": "e9931ef6-c2dc-43a7-85af-88afc191b793",
   "metadata": {},
   "outputs": [
    {
     "name": "stdout",
     "output_type": "stream",
     "text": [
      "inline{'title': 'Food', 'header': '', 'chunk_index': 4, 'parsed_context': '', 'link_display_text': 'Food'}\n"
     ]
    }
   ],
   "source": [
    "print(parsed_notes[\"Good Faith Schedule\"].out_relationships[\"Food\"][0])"
   ]
  },
  {
   "cell_type": "code",
   "execution_count": null,
   "id": "6fcb59a3-e90f-438f-97ee-2c5ca2e3eaeb",
   "metadata": {},
   "outputs": [],
   "source": []
  }
 ],
 "metadata": {
  "kernelspec": {
   "display_name": "Python 3 (ipykernel)",
   "language": "python",
   "name": "python3"
  },
  "language_info": {
   "codemirror_mode": {
    "name": "ipython",
    "version": 3
   },
   "file_extension": ".py",
   "mimetype": "text/x-python",
   "name": "python",
   "nbconvert_exporter": "python",
   "pygments_lexer": "ipython3",
   "version": "3.11.0"
  }
 },
 "nbformat": 4,
 "nbformat_minor": 5
}
