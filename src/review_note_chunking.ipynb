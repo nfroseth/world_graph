{
 "cells": [
  {
   "cell_type": "code",
   "execution_count": 1,
   "id": "51e680f5-aa90-429b-84a2-e2c776f88d3c",
   "metadata": {},
   "outputs": [],
   "source": [
    "from parse_obsidian_vault import ObsidianVault, MarkdownThenRecursiveSplit\n",
    "from pprint import pprint\n",
    "from langchain_experimental.text_splitter import SemanticChunker\n",
    "from langchain_community.embeddings import InfinityEmbeddings, InfinityEmbeddingsLocal\n",
    "\n",
    "import pandas as pd"
   ]
  },
  {
   "cell_type": "code",
   "execution_count": 4,
   "id": "6073e15d-675f-43a0-98ac-d2f1b7587312",
   "metadata": {},
   "outputs": [],
   "source": [
    "infinity_api_url = \"http://127.0.0.1:7997\"\n",
    "\n",
    "embeddings = InfinityEmbeddings(\n",
    "    model=\"BAAI/bge-small-en-v1.5\", infinity_api_url=infinity_api_url\n",
    ")"
   ]
  },
  {
   "cell_type": "code",
   "execution_count": null,
   "id": "e1ab11b0-8ee8-4948-808a-aa9aa16c20ec",
   "metadata": {
    "scrolled": true
   },
   "outputs": [],
   "source": [
    "vault_path = \"/home/xoph/SlipBoxCopy/Slip Box\"\n",
    "# vault_path = \"/home/xoph/repos/github/nfroseth/world_graph/test_vault\"\n",
    "percentile_semantic_chunker = SemanticChunker(embeddings, breakpoint_threshold_type=\"percentile\")\n",
    "standard_deviation_semantic_chunker = SemanticChunker(embeddings, breakpoint_threshold_type=\"standard_deviation\")\n",
    "interquartile_semantic_chunker = SemanticChunker(embeddings, breakpoint_threshold_type=\"interquartile\")\n",
    "# splitter = MarkdownThenRecursiveSplit(chunk_size = 512, chunk_overlap = 64)\n",
    "\n",
    "vault_percent = ObsidianVault(vault_path=vault_path, vault_name=\"TEST_VAULT\")\n",
    "vault_percent.parse_obsidian_vault(splitter = percentile_semantic_chunker)\n",
    "parsed_notes_percent = vault_percent.parsed_notes\n",
    "\n",
    "vault_sd = ObsidianVault(vault_path=vault_path, vault_name=\"TEST_VAULT\")\n",
    "vault_sd.parse_obsidian_vault(splitter = standard_deviation_semantic_chunker)\n",
    "parsed_notes_sd = vault_sd.parsed_notes\n",
    "\n",
    "vault_intq = ObsidianVault(vault_path=vault_path, vault_name=\"TEST_VAULT\")\n",
    "vault_intq.parse_obsidian_vault(splitter = interquartile_semantic_chunker)\n",
    "parsed_notes_intq = vault_intq.parsed_notes"
   ]
  },
  {
   "cell_type": "code",
   "execution_count": 20,
   "id": "141a2cc5-3fdd-4809-b568-975d70264af8",
   "metadata": {},
   "outputs": [],
   "source": [
    "# for idx, doc in enumerate(parsed_notes[\"Good Faith Schedule\"].properties[\"chunks\"]):\n",
    "#     # for line in doc.page_content.split(\"\\n\"):\n",
    "#     print(f\"=== Chunk idx:{idx}\")\n",
    "#     print(doc)"
   ]
  },
  {
   "cell_type": "code",
   "execution_count": 16,
   "id": "148c3e18-78f6-4153-90a7-e7761962abe7",
   "metadata": {},
   "outputs": [
    {
     "data": {
      "text/plain": [
       "4"
      ]
     },
     "execution_count": 16,
     "metadata": {},
     "output_type": "execute_result"
    }
   ],
   "source": [
    "len(parsed_notes[\"Good Faith Schedule\"].properties[\"chunks\"])"
   ]
  },
  {
   "cell_type": "code",
   "execution_count": 19,
   "id": "a371b250-c276-4fd1-9998-be3e7a8821d1",
   "metadata": {
    "scrolled": true
   },
   "outputs": [
    {
     "data": {
      "text/html": [
       "<div>\n",
       "<style scoped>\n",
       "    .dataframe tbody tr th:only-of-type {\n",
       "        vertical-align: middle;\n",
       "    }\n",
       "\n",
       "    .dataframe tbody tr th {\n",
       "        vertical-align: top;\n",
       "    }\n",
       "\n",
       "    .dataframe thead th {\n",
       "        text-align: right;\n",
       "    }\n",
       "</style>\n",
       "<table border=\"1\" class=\"dataframe\">\n",
       "  <thead>\n",
       "    <tr style=\"text-align: right;\">\n",
       "      <th></th>\n",
       "      <th>0</th>\n",
       "    </tr>\n",
       "  </thead>\n",
       "  <tbody>\n",
       "    <tr>\n",
       "      <th>count</th>\n",
       "      <td>802.000000</td>\n",
       "    </tr>\n",
       "    <tr>\n",
       "      <th>mean</th>\n",
       "      <td>18.660848</td>\n",
       "    </tr>\n",
       "    <tr>\n",
       "      <th>std</th>\n",
       "      <td>169.173528</td>\n",
       "    </tr>\n",
       "    <tr>\n",
       "      <th>min</th>\n",
       "      <td>0.000000</td>\n",
       "    </tr>\n",
       "    <tr>\n",
       "      <th>25%</th>\n",
       "      <td>3.000000</td>\n",
       "    </tr>\n",
       "    <tr>\n",
       "      <th>50%</th>\n",
       "      <td>4.000000</td>\n",
       "    </tr>\n",
       "    <tr>\n",
       "      <th>75%</th>\n",
       "      <td>5.000000</td>\n",
       "    </tr>\n",
       "    <tr>\n",
       "      <th>max</th>\n",
       "      <td>3272.000000</td>\n",
       "    </tr>\n",
       "  </tbody>\n",
       "</table>\n",
       "</div>"
      ],
      "text/plain": [
       "                 0\n",
       "count   802.000000\n",
       "mean     18.660848\n",
       "std     169.173528\n",
       "min       0.000000\n",
       "25%       3.000000\n",
       "50%       4.000000\n",
       "75%       5.000000\n",
       "max    3272.000000"
      ]
     },
     "execution_count": 19,
     "metadata": {},
     "output_type": "execute_result"
    }
   ],
   "source": [
    "pd.DataFrame([len(v.properties[\"chunks\"]) for k,v in parsed_notes.items()]).describe()"
   ]
  },
  {
   "cell_type": "code",
   "execution_count": null,
   "id": "6fcb59a3-e90f-438f-97ee-2c5ca2e3eaeb",
   "metadata": {},
   "outputs": [],
   "source": []
  }
 ],
 "metadata": {
  "kernelspec": {
   "display_name": "Python 3 (ipykernel)",
   "language": "python",
   "name": "python3"
  },
  "language_info": {
   "codemirror_mode": {
    "name": "ipython",
    "version": 3
   },
   "file_extension": ".py",
   "mimetype": "text/x-python",
   "name": "python",
   "nbconvert_exporter": "python",
   "pygments_lexer": "ipython3",
   "version": "3.11.0"
  }
 },
 "nbformat": 4,
 "nbformat_minor": 5
}
