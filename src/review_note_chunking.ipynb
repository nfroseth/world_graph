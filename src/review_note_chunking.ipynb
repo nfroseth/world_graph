{
 "cells": [
  {
   "cell_type": "code",
   "execution_count": 1,
   "id": "51e680f5-aa90-429b-84a2-e2c776f88d3c",
   "metadata": {},
   "outputs": [],
   "source": [
    "from parse_obsidian_vault import ObsidianVault, MarkdownThenRecursiveSplit\n",
    "from pprint import pprint"
   ]
  },
  {
   "cell_type": "code",
   "execution_count": 2,
   "id": "e1ab11b0-8ee8-4948-808a-aa9aa16c20ec",
   "metadata": {},
   "outputs": [
    {
     "name": "stderr",
     "output_type": "stream",
     "text": [
      "Starting the parsing of obsidian vault\n",
      "0it [00:00, ?it/s]note_properties={'aliases': ['Good Faith Schedule'], 'tags': ['daily_journal', 'finance'], 'obsidian_note_property_id': '/mnt/c/Users/Xoph-Lap/Documents/Slip Box/Slip Box/00 Slip Box/Refinement/Good Faith Schedule.md'}\n",
      "0it [00:00, ?it/s]\n"
     ]
    },
    {
     "ename": "TypeError",
     "evalue": "sequence item 0: expected str instance, tuple found",
     "output_type": "error",
     "traceback": [
      "\u001b[0;31m---------------------------------------------------------------------------\u001b[0m",
      "\u001b[0;31mTypeError\u001b[0m                                 Traceback (most recent call last)",
      "Cell \u001b[0;32mIn[2], line 6\u001b[0m\n\u001b[1;32m      3\u001b[0m splitter \u001b[38;5;241m=\u001b[39m MarkdownThenRecursiveSplit(chunk_size \u001b[38;5;241m=\u001b[39m \u001b[38;5;241m512\u001b[39m, chunk_overlap \u001b[38;5;241m=\u001b[39m \u001b[38;5;241m64\u001b[39m)\n\u001b[1;32m      5\u001b[0m vault \u001b[38;5;241m=\u001b[39m ObsidianVault(vault_path\u001b[38;5;241m=\u001b[39mvault_path, vault_name\u001b[38;5;241m=\u001b[39m\u001b[38;5;124m\"\u001b[39m\u001b[38;5;124mTEST_VAULT\u001b[39m\u001b[38;5;124m\"\u001b[39m)\n\u001b[0;32m----> 6\u001b[0m \u001b[43mvault\u001b[49m\u001b[38;5;241;43m.\u001b[39;49m\u001b[43mparse_obsidian_vault\u001b[49m\u001b[43m(\u001b[49m\u001b[43msplitter\u001b[49m\u001b[43m \u001b[49m\u001b[38;5;241;43m=\u001b[39;49m\u001b[43m \u001b[49m\u001b[43msplitter\u001b[49m\u001b[43m \u001b[49m\u001b[43m)\u001b[49m\n\u001b[1;32m      7\u001b[0m parsed_notes \u001b[38;5;241m=\u001b[39m vault\u001b[38;5;241m.\u001b[39mparsed_notes\n",
      "File \u001b[0;32m~/repos/github/nfroseth/world_graph/src/parse_obsidian_vault.py:369\u001b[0m, in \u001b[0;36mObsidianVault.parse_obsidian_vault\u001b[0;34m(self, splitter)\u001b[0m\n\u001b[1;32m    366\u001b[0m     parse_log\u001b[38;5;241m.\u001b[39mdebug(\u001b[38;5;124mf\u001b[39m\u001b[38;5;124m\"\u001b[39m\u001b[38;5;124mReading note \u001b[39m\u001b[38;5;132;01m{\u001b[39;00mname\u001b[38;5;132;01m=}\u001b[39;00m\u001b[38;5;124m\"\u001b[39m)\n\u001b[1;32m    368\u001b[0m     \u001b[38;5;28;01mwith\u001b[39;00m \u001b[38;5;28mopen\u001b[39m(path, mode\u001b[38;5;241m=\u001b[39m\u001b[38;5;124m\"\u001b[39m\u001b[38;5;124mr\u001b[39m\u001b[38;5;124m\"\u001b[39m, encoding\u001b[38;5;241m=\u001b[39m\u001b[38;5;124m\"\u001b[39m\u001b[38;5;124mutf-8\u001b[39m\u001b[38;5;124m\"\u001b[39m) \u001b[38;5;28;01mas\u001b[39;00m file:\n\u001b[0;32m--> 369\u001b[0m         note \u001b[38;5;241m=\u001b[39m \u001b[38;5;28;43mself\u001b[39;49m\u001b[38;5;241;43m.\u001b[39;49m\u001b[43mtyped_list_parse\u001b[49m\u001b[43m(\u001b[49m\u001b[43mfile\u001b[49m\u001b[43m,\u001b[49m\u001b[43m \u001b[49m\u001b[43mpath\u001b[49m\u001b[43m,\u001b[49m\u001b[43m \u001b[49m\u001b[43msplitter\u001b[49m\u001b[43m)\u001b[49m\n\u001b[1;32m    370\u001b[0m         parsed_notes[name] \u001b[38;5;241m=\u001b[39m note\n\u001b[1;32m    372\u001b[0m parse_log\u001b[38;5;241m.\u001b[39minfo(\u001b[38;5;124m\"\u001b[39m\u001b[38;5;124mFinished parsing notes\u001b[39m\u001b[38;5;124m\"\u001b[39m)\n",
      "File \u001b[0;32m~/repos/github/nfroseth/world_graph/src/parse_obsidian_vault.py:320\u001b[0m, in \u001b[0;36mObsidianVault.typed_list_parse\u001b[0;34m(self, file, path, splitter)\u001b[0m\n\u001b[1;32m    317\u001b[0m         lines\u001b[38;5;241m.\u001b[39mappend((chunk, line))\n\u001b[1;32m    318\u001b[0m         line \u001b[38;5;241m=\u001b[39m file\u001b[38;5;241m.\u001b[39mreadline()\n\u001b[0;32m--> 320\u001b[0m raw_content \u001b[38;5;241m=\u001b[39m \u001b[38;5;124m\"\u001b[39m\u001b[38;5;124m\"\u001b[39m\u001b[38;5;241m.\u001b[39mjoin(lines)\n\u001b[1;32m    321\u001b[0m \u001b[38;5;28;01mif\u001b[39;00m \u001b[38;5;28mself\u001b[39m\u001b[38;5;241m.\u001b[39m_ENABLE_MARKDOWN_TO_HTML:\n\u001b[1;32m    322\u001b[0m     raw_content \u001b[38;5;241m=\u001b[39m markdownToHtml(raw_content)\n",
      "\u001b[0;31mTypeError\u001b[0m: sequence item 0: expected str instance, tuple found"
     ]
    }
   ],
   "source": [
    "# vault_path = \"/home/xoph/SlipBoxCopy/Slip Box\"\n",
    "vault_path = \"/home/xoph/repos/github/nfroseth/world_graph/test_vault\"\n",
    "splitter = MarkdownThenRecursiveSplit(chunk_size = 512, chunk_overlap = 64)\n",
    "\n",
    "vault = ObsidianVault(vault_path=vault_path, vault_name=\"TEST_VAULT\")\n",
    "vault.parse_obsidian_vault(splitter = splitter )\n",
    "parsed_notes = vault.parsed_notes"
   ]
  },
  {
   "cell_type": "code",
   "execution_count": 4,
   "id": "141a2cc5-3fdd-4809-b568-975d70264af8",
   "metadata": {},
   "outputs": [
    {
     "name": "stdout",
     "output_type": "stream",
     "text": [
      "page_content='202201150130  \\nStatus: #idea  \\nTags  \\nFleeting Notes on:'\n",
      "===\n",
      "page_content='# Good Faith Schedule\\nElaborating on [[Good Faith Scheduling with Time blocks]]  \\n#### Questions to guide\\nWhat is my one thing?\\nWhat are the principles I ought to use when creating a schedule/routine?\\ntherhe  \\n#### Principles/Constraints  \\nFor good health:\\nI will attempt to[[Sleep]] 9 hours every night.  \\nFor good lifting:  \\nAn excerpt to build on from [[Good Faith Scheduling with Time blocks#^70e04e]]  \\nKey: {Time Allotment } [[Links to Elaboration]] (Explanation of implementation)' metadata={'Header 1': 'Good Faith Schedule'}\n",
      "===\n",
      "page_content='**Mornings Routine Start** {2h 20m}\\n- Wake up at 8:15 am {5 m}\\n- Make bed\\n- Piss\\n- Take morning [[Supplements]]\\n- Brush teeth\\n- [[Weight myself]]\\n- Get clothing for the day (Picked out the Sunday before)\\n- Login to Work (Horizon) {5 m}\\n- Boot computer\\n- Get on teams [[Use second phone for teams]]\\n- Journal {20 m}\\n- Make a new daily entry with the Daily Minimal Journal template\\n- Prepare or Get Food {TBD?} *9:00 am Small First Meal*' metadata={'Header 1': 'Good Faith Schedule'}\n",
      "===\n",
      "page_content='- Prepare or Get Food {TBD?} *9:00 am Small First Meal*\\n- Look to [[Food]] Batching for reduced time for Preparation (Consider make a clear recipe and portions so another person could complete the task)\\n- Consider moving Food up further for the sake of Bulking and Down for cutting\\n- Write {30 m}{Concurrency with Eating and Preparing Food. }\\n- Thoughts\\n- Make permanent notes\\n- Walk {30 m}\\n- Walk around the Neighborhood to the west of Rockwell\\n- Typing Practice {20 m}\\n- Complete 15 minutes on EdClub' metadata={'Header 1': 'Good Faith Schedule'}\n",
      "===\n",
      "page_content='- Typing Practice {20 m}\\n- Complete 15 minutes on EdClub\\n- Few tests on Monkey Type\\n- Meditate {20 m}\\n- Use Headspace to focus on breath  \\n**Mornings Routine End**  \\nAnchor 10:30 am. Back from my walk and completed most habitual tasks for the day.  \\n**Time Block Start:** {5h}\\n- Focus session {1h} (25m Sessions to get over starting)\\n- Eat Meal at 11:30 am {20 m}\\n- Focus session {2h}\\n- Anchor 2:00 pm\\n- Eat Meal {20 m}\\n- Focus session {1h} (25m Sessions to get over starting)\\n**Time Block End**' metadata={'Header 1': 'Good Faith Schedule'}\n",
      "===\n",
      "page_content='**Time Block End**  \\n**Gym Block Start**\\n- Gym Prep {20 m}\\n- [[Pre Gym Snack]]\\n- Drive {10m}\\n- Be at gym by 4:15 pm, leave house by 4:00 pm\\n- [[Training]] (Focused with high purpose/intensity) {1h 15m}\\n- Done with work out at 5:30 pm\\n- Drive Home\\n- Drink [[Protein Shake]]\\n- Eat Post Carbs\\n- Shower\\n- Anchor 6:00 pm\\n**Gym Block End**  \\n**Time Block Start:** {4.5h}\\n- Focus session {1.5h} (25m Sessions to get over starting)\\n- Cook and Eat Meal at 7:30pm {1h }\\n- Talk to Parents\\n- Cook\\n- Eat\\n- [[Chores]]' metadata={'Header 1': 'Good Faith Schedule'}\n",
      "===\n",
      "page_content='- Talk to Parents\\n- Cook\\n- Eat\\n- [[Chores]]\\n- Open Window to Cool Bed room\\n- Focus session {1.75h}\\n- Journal in the Evening {10m}\\n- Evening Journal\\n- Wind down {5m}\\n**Time Block End**  \\nAnchor 11:00 pm\\n- Fall Asleep {15m}\\n-  Sleep {9h}  \\n---' metadata={'Header 1': 'Good Faith Schedule'}\n",
      "===\n",
      "page_content='# References' metadata={'Header 1': 'References'}\n",
      "===\n"
     ]
    }
   ],
   "source": [
    "for doc in parsed_notes[\"Good Faith Schedule\"].properties[\"chunks\"]:\n",
    "    # for line in doc.page_content.split(\"\\n\"):\n",
    "    print(doc)\n",
    "    print(\"===\")"
   ]
  },
  {
   "cell_type": "code",
   "execution_count": null,
   "id": "e9931ef6-c2dc-43a7-85af-88afc191b793",
   "metadata": {},
   "outputs": [],
   "source": []
  }
 ],
 "metadata": {
  "kernelspec": {
   "display_name": "Python 3 (ipykernel)",
   "language": "python",
   "name": "python3"
  },
  "language_info": {
   "codemirror_mode": {
    "name": "ipython",
    "version": 3
   },
   "file_extension": ".py",
   "mimetype": "text/x-python",
   "name": "python",
   "nbconvert_exporter": "python",
   "pygments_lexer": "ipython3",
   "version": "3.11.0"
  }
 },
 "nbformat": 4,
 "nbformat_minor": 5
}
