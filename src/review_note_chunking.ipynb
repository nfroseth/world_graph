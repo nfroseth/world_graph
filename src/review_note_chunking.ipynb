{
 "cells": [
  {
   "cell_type": "code",
   "execution_count": null,
   "id": "51e680f5-aa90-429b-84a2-e2c776f88d3c",
   "metadata": {},
   "outputs": [],
   "source": [
    "from parse_obsidian_vault import ObsidianVault, MarkdownThenRecursiveSplit\n",
    "from pprint import pprint\n",
    "from langchain_experimental.text_splitter import SemanticChunker\n",
    "from langchain_community.embeddings import InfinityEmbeddings, InfinityEmbeddingsLocal\n",
    "\n",
    "import pandas as pd"
   ]
  },
  {
   "cell_type": "code",
   "execution_count": null,
   "id": "6073e15d-675f-43a0-98ac-d2f1b7587312",
   "metadata": {},
   "outputs": [],
   "source": [
    "infinity_api_url = \"http://127.0.0.1:7997\"\n",
    "\n",
    "embeddings = InfinityEmbeddings(\n",
    "    model=\"BAAI/bge-small-en-v1.5\", infinity_api_url=infinity_api_url\n",
    ")"
   ]
  },
  {
   "cell_type": "code",
   "execution_count": null,
   "id": "bdd24055-e0f8-405e-bd6c-03e43eaeb685",
   "metadata": {},
   "outputs": [],
   "source": [
    "vault_path = \"/home/xoph/SlipBoxCopy/Slip Box\"\n",
    "# vault_path = \"/home/xoph/repos/github/nfroseth/world_graph/test_vault\"\n",
    "percentile_semantic_chunker = SemanticChunker(embeddings, breakpoint_threshold_type=\"percentile\")\n",
    "vault_percent = ObsidianVault(vault_path=vault_path, vault_name=\"TEST_VAULT\")\n",
    "vault_percent.parse_obsidian_vault(splitter = percentile_semantic_chunker)\n",
    "parsed_notes_percent = vault_percent.parsed_notes"
   ]
  },
  {
   "cell_type": "code",
   "execution_count": null,
   "id": "69d6a5f3-4e11-4206-8005-141619547d5d",
   "metadata": {},
   "outputs": [],
   "source": [
    "vault_path = \"/home/xoph/SlipBoxCopy/Slip Box\"\n",
    "\n",
    "# BREAKPOINT_DEFAULTS: Dict[BreakpointThresholdType, float] = {\n",
    "#     \"percentile\": 95,\n",
    "#     \"standard_deviation\": 3,\n",
    "#     \"interquartile\": 1.5,\n",
    "# }\n",
    "\n",
    "semantic_chunk_args = {\n",
    "    # \"percentile\":{\"breakpoint_threshold_type\":\"percentile\"},\n",
    "    \"standard_deviation\":{\"breakpoint_threshold_type\":\"standard_deviation\"},\n",
    "    \"interquartile\":{\"breakpoint_threshold_type\":\"interquartile\"},\n",
    "    # \"gradient\":{\"breakpoint_threshold_type\":\"gradient\"},\n",
    "}\n",
    "perentages = [i*5 for i in range(0, 20)][::-1]\n",
    "percentile_chunk_args = {\n",
    "    f\"percentile_{i}\": {\"breakpoint_threshold_type\":\"percentile\", \"breakpoint_threshold_amount\":i} for i in perentages\n",
    "}\n",
    "semantic_chunk_args.update(percentile_chunk_args)\n",
    "\n",
    "splitters = {name: SemanticChunker(embeddings, **kwargs) for name, kwargs in semantic_chunk_args.items()}\n",
    "splitters[\"mdThenRecursive\"] = MarkdownThenRecursiveSplit()"
   ]
  },
  {
   "cell_type": "code",
   "execution_count": null,
   "id": "cfa8bdfb-86e9-493b-9d0b-291aa29950bd",
   "metadata": {},
   "outputs": [],
   "source": [
    "print(list(splitters.keys()))"
   ]
  },
  {
   "cell_type": "code",
   "execution_count": null,
   "id": "e1ab11b0-8ee8-4948-808a-aa9aa16c20ec",
   "metadata": {
    "scrolled": true
   },
   "outputs": [],
   "source": [
    "chunk_results = {}\n",
    "for name, splitter in splitters.items():\n",
    "    vault = ObsidianVault(vault_path=vault_path, vault_name=\"TEST_VAULT\")\n",
    "    try:\n",
    "        vault.parse_obsidian_vault(splitter = splitter)\n",
    "        chunk_results[name] = vault.parsed_notes\n",
    "    except Exception as e:\n",
    "        print(f\"Failed on {name} with {e}\")"
   ]
  },
  {
   "cell_type": "code",
   "execution_count": null,
   "id": "a371b250-c276-4fd1-9998-be3e7a8821d1",
   "metadata": {
    "scrolled": true
   },
   "outputs": [],
   "source": [
    "chunk_lengths = pd.DataFrame({name:{k: len(v.chunks) for k,v in notes.items()} for name, notes in chunk_results.items()})"
   ]
  },
  {
   "cell_type": "code",
   "execution_count": null,
   "id": "ed9f56a4-9e17-4bc7-a8e0-898f5d28b037",
   "metadata": {},
   "outputs": [],
   "source": [
    "chunk_lengths"
   ]
  },
  {
   "cell_type": "code",
   "execution_count": null,
   "id": "48c457ed-1392-461e-883e-317713ff6a07",
   "metadata": {
    "scrolled": true
   },
   "outputs": [],
   "source": [
    "for col in chunk_lengths:\n",
    "    print(chunk_lengths[col].describe())"
   ]
  },
  {
   "cell_type": "code",
   "execution_count": null,
   "id": "6fcb59a3-e90f-438f-97ee-2c5ca2e3eaeb",
   "metadata": {},
   "outputs": [],
   "source": [
    "chunk_lengths.sum()"
   ]
  },
  {
   "cell_type": "code",
   "execution_count": null,
   "id": "134c562b-3d31-4b6c-b594-6ed5af7e32be",
   "metadata": {},
   "outputs": [],
   "source": [
    "chunk_lengths[[\"percentile_95\", \"percentile_65\", \"percentile_60\", \"percentile_55\", \"percentile_50\", \"percentile_0\", \"mdThenRecursive\", \"interquartile\"]].describe()"
   ]
  },
  {
   "cell_type": "code",
   "execution_count": null,
   "id": "994aaa64-cc6c-4ddc-a7fc-cf104c2cda55",
   "metadata": {},
   "outputs": [],
   "source": [
    "pd.DataFrame(chunk_lengths[[\"percentile_95\", \"percentile_65\", \"percentile_60\", \"percentile_55\", \"percentile_50\", \"percentile_0\", \"mdThenRecursive\", \"interquartile\"]].sum()).T"
   ]
  },
  {
   "cell_type": "code",
   "execution_count": null,
   "id": "b76a42d4-b254-4213-8747-2272af3a43d4",
   "metadata": {},
   "outputs": [],
   "source": []
  },
  {
   "cell_type": "code",
   "execution_count": null,
   "id": "c05a7b25-6e23-433e-8b2a-74c8c08a178d",
   "metadata": {},
   "outputs": [],
   "source": [
    "chunk_lengths[\"per_60 minus mdRec\"] = chunk_lengths[\"percentile_60\"] - chunk_lengths[\"mdThenRecursive\"]"
   ]
  },
  {
   "cell_type": "code",
   "execution_count": null,
   "id": "1a266355-550f-45ba-93da-1e53430a75f3",
   "metadata": {},
   "outputs": [],
   "source": [
    "chunk_difference.describe()"
   ]
  },
  {
   "cell_type": "code",
   "execution_count": null,
   "id": "6522a5e8-f3b2-4121-82d0-454c921a0654",
   "metadata": {},
   "outputs": [],
   "source": [
    "chunk_lengths[[\"per_60 minus mdRec\", \"percentile_60\", \"mdThenRecursive\"]].plot.hist(bins=50, alpha=0.5)"
   ]
  },
  {
   "cell_type": "code",
   "execution_count": null,
   "id": "031d96a6-1385-46a3-ba89-72cc29169e11",
   "metadata": {},
   "outputs": [],
   "source": [
    "chunk_difference.describe()"
   ]
  },
  {
   "cell_type": "code",
   "execution_count": null,
   "id": "f8c6c053-4150-4228-a0f6-7368694fa1c0",
   "metadata": {},
   "outputs": [],
   "source": [
    "sorted_diff = chunk_lengths[\"per_60 minus mdRec\"].sort_values()"
   ]
  },
  {
   "cell_type": "code",
   "execution_count": null,
   "id": "e2c88380-4276-4038-88d0-9a4bedd64696",
   "metadata": {},
   "outputs": [],
   "source": [
    "sorted_diff"
   ]
  },
  {
   "cell_type": "code",
   "execution_count": null,
   "id": "e89b8f35-4649-4b4d-9f9f-6d2dc90b77a8",
   "metadata": {},
   "outputs": [],
   "source": [
    "most_ext_diff = pd.concat([sorted_diff[:10], sorted_diff[-10:]])"
   ]
  },
  {
   "cell_type": "code",
   "execution_count": null,
   "id": "2e63a0c6-07b7-4a77-a1ea-7a49a3014a85",
   "metadata": {},
   "outputs": [],
   "source": [
    "most_ext_diff #chunk_lengths[\"percentile_60\"] - chunk_lengths[\"mdThenRecursive\"]"
   ]
  },
  {
   "cell_type": "code",
   "execution_count": null,
   "metadata": {},
   "outputs": [],
   "source": []
  },
  {
   "cell_type": "code",
   "execution_count": null,
   "id": "9bf5f61f-b865-4be6-885e-c671b4b08f53",
   "metadata": {
    "scrolled": true
   },
   "outputs": [],
   "source": [
    "chunk_results['percentile_60']"
   ]
  },
  {
   "cell_type": "code",
   "execution_count": null,
   "id": "e6810de6-78a6-4914-96f1-612942c713ae",
   "metadata": {},
   "outputs": [],
   "source": []
  },
  {
   "cell_type": "code",
   "execution_count": null,
   "id": "0ca1f82a-2dca-490c-972f-df9c3614c71b",
   "metadata": {},
   "outputs": [],
   "source": []
  }
 ],
 "metadata": {
  "kernelspec": {
   "display_name": "Python 3 (ipykernel)",
   "language": "python",
   "name": "python3"
  },
  "language_info": {
   "codemirror_mode": {
    "name": "ipython",
    "version": 3
   },
   "file_extension": ".py",
   "mimetype": "text/x-python",
   "name": "python",
   "nbconvert_exporter": "python",
   "pygments_lexer": "ipython3",
   "version": "3.11.0"
  }
 },
 "nbformat": 4,
 "nbformat_minor": 5
}
