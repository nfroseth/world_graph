{
 "cells": [
  {
   "cell_type": "code",
   "execution_count": null,
   "id": "54f30bfb-1161-4935-beb2-741eac1c9eaa",
   "metadata": {},
   "outputs": [],
   "source": [
    "from parse_obsidian_vault import ObsidianVault, MarkdownThenRecursiveSplit\n",
    "from pprint import pprint\n",
    "from langchain_experimental.text_splitter import SemanticChunker\n",
    "from langchain_community.embeddings import InfinityEmbeddings, InfinityEmbeddingsLocal\n",
    "\n",
    "import pandas as pd\n",
    "import re\n",
    "import string"
   ]
  },
  {
   "cell_type": "code",
   "execution_count": null,
   "id": "da52a0bd-24ba-4b6e-a051-e5d38d86d910",
   "metadata": {},
   "outputs": [],
   "source": [
    "vault_path = \"/home/xoph/SlipBoxCopy/Slip Box\"\n",
    "splitter = MarkdownThenRecursiveSplit()\n",
    "vault_percent = ObsidianVault(vault_path=vault_path, vault_name=\"TEST_VAULT\")\n",
    "vault_percent.parse_obsidian_vault(splitter = splitter)"
   ]
  },
  {
   "cell_type": "code",
   "execution_count": null,
   "id": "e3141b35-af9c-4321-a1c8-61cef4159625",
   "metadata": {},
   "outputs": [],
   "source": [
    "vault_percent.parsed_notes[\"How I Remember Everything I Read\"].out_chunk_relationships"
   ]
  },
  {
   "cell_type": "code",
   "execution_count": null,
   "id": "7b8ec7ef-6021-4df3-ab33-1c56399a2dbf",
   "metadata": {},
   "outputs": [],
   "source": [
    "for chunk in vault_percent.parsed_notes[\"How I Remember Everything I Read\"].chunks:\n",
    "    print(chunk.out_note_relationships)"
   ]
  },
  {
   "cell_type": "code",
   "execution_count": null,
   "id": "a0c7b53e-880d-4764-accf-cc7d89c7f485",
   "metadata": {},
   "outputs": [],
   "source": [
    "vault_percent.parsed_notes[\"How I Remember Everything I Read\"].chunks[2].out_chunk_relationships[\"Ultralearning#Why Is It So Hard to Remember Things\"][0].properties"
   ]
  },
  {
   "cell_type": "code",
   "execution_count": null,
   "id": "5ad30b35-4f3c-4dc1-92a6-350c5a9a5770",
   "metadata": {},
   "outputs": [],
   "source": [
    "not {}.keys() and not {\"a\":1}.keys()"
   ]
  },
  {
   "cell_type": "code",
   "execution_count": null,
   "id": "00e3a0e2-e13a-482d-85f1-6917c4e69495",
   "metadata": {},
   "outputs": [],
   "source": [
    "content = \"# No\\n\"\n",
    "header = \"No\"\n",
    "pattern = fr\"#{{1,6}} +({header})(?=\\n)\"\n",
    "print(pattern)\n",
    "match = re.match(pattern, content)"
   ]
  },
  {
   "cell_type": "code",
   "execution_count": null,
   "id": "fa6ac806-47b0-4702-8966-62a68564f189",
   "metadata": {},
   "outputs": [],
   "source": [
    "print(match.group())"
   ]
  },
  {
   "cell_type": "code",
   "execution_count": null,
   "id": "edccb18f-0b39-47f1-a61d-335fe08d20a9",
   "metadata": {},
   "outputs": [],
   "source": [
    "\"sdfs . sdf # sdfsd \".translate(str.maketrans('', '', string.punctuation))"
   ]
  },
  {
   "cell_type": "code",
   "execution_count": null,
   "id": "07df7911-a347-4d25-9f02-85d2be347353",
   "metadata": {},
   "outputs": [],
   "source": []
  }
 ],
 "metadata": {
  "kernelspec": {
   "display_name": "Python 3 (ipykernel)",
   "language": "python",
   "name": "python3"
  },
  "language_info": {
   "codemirror_mode": {
    "name": "ipython",
    "version": 3
   },
   "file_extension": ".py",
   "mimetype": "text/x-python",
   "name": "python",
   "nbconvert_exporter": "python",
   "pygments_lexer": "ipython3",
   "version": "3.11.0"
  }
 },
 "nbformat": 4,
 "nbformat_minor": 5
}
