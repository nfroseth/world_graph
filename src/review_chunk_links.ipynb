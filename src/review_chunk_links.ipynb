{
 "cells": [
  {
   "cell_type": "code",
   "execution_count": 23,
   "id": "54f30bfb-1161-4935-beb2-741eac1c9eaa",
   "metadata": {},
   "outputs": [],
   "source": [
    "from parse_obsidian_vault import ObsidianVault, MarkdownThenRecursiveSplit\n",
    "from pprint import pprint\n",
    "from langchain_experimental.text_splitter import SemanticChunker\n",
    "from langchain_community.embeddings import InfinityEmbeddings, InfinityEmbeddingsLocal\n",
    "\n",
    "import pandas as pd\n",
    "import re"
   ]
  },
  {
   "cell_type": "code",
   "execution_count": 2,
   "id": "da52a0bd-24ba-4b6e-a051-e5d38d86d910",
   "metadata": {},
   "outputs": [
    {
     "name": "stderr",
     "output_type": "stream",
     "text": [
      "Starting the parsing of obsidian vault\n",
      "44it [00:00, 423.03it/s]Detected but Failed to read the properties yaml head from note: 10-28-22 with mapping values are not allowed here\n",
      "  in \"<unicode string>\", line 4, column 20:\n",
      "    A journal Entry for:\n",
      "                       ^\n",
      "Detected but Failed to read the properties yaml head from note: 11-18-23 with mapping values are not allowed here\n",
      "  in \"<unicode string>\", line 4, column 20:\n",
      "    A journal Entry for:\n",
      "                       ^\n",
      "284it [00:00, 432.61it/s]At 1-24-22 A week of faith Found link with more than two header # separators: The One Thing#Lies#Multi tasking, Skipping...\n",
      "Detected but Failed to read the properties yaml head from note: 5-5-23 with mapping values are not allowed here\n",
      "  in \"<unicode string>\", line 4, column 20:\n",
      "    A journal Entry for:\n",
      "                       ^\n",
      "440it [00:01, 495.17it/s]At Time Block Found link with more than two header # separators: The One Thing#15 Live for Productivity#Time Blocking, Skipping...\n",
      "757it [00:01, 514.50it/s]\n",
      "Finished parsing notes\n"
     ]
    }
   ],
   "source": [
    "vault_path = \"/home/xoph/SlipBoxCopy/Slip Box\"\n",
    "splitter = MarkdownThenRecursiveSplit()\n",
    "vault_percent = ObsidianVault(vault_path=vault_path, vault_name=\"TEST_VAULT\")\n",
    "vault_percent.parse_obsidian_vault(splitter = splitter)"
   ]
  },
  {
   "cell_type": "code",
   "execution_count": 4,
   "id": "e3141b35-af9c-4321-a1c8-61cef4159625",
   "metadata": {},
   "outputs": [
    {
     "data": {
      "text/plain": [
       "defaultdict(list,\n",
       "            {'Ultralearning#Why Is It So Hard to Remember Things': [<note.Link at 0x7fbfb20a3050>]})"
      ]
     },
     "execution_count": 4,
     "metadata": {},
     "output_type": "execute_result"
    }
   ],
   "source": [
    "vault_percent.parsed_notes[\"How I Remember Everything I Read\"].out_chunk_relationships"
   ]
  },
  {
   "cell_type": "code",
   "execution_count": null,
   "id": "7b8ec7ef-6021-4df3-ab33-1c56399a2dbf",
   "metadata": {},
   "outputs": [],
   "source": [
    "for chunk in vault_percent.parsed_notes[\"How I Remember Everything I Read\"].chunks:\n",
    "    print(chunk.out_note_relationships)"
   ]
  },
  {
   "cell_type": "code",
   "execution_count": 14,
   "id": "a0c7b53e-880d-4764-accf-cc7d89c7f485",
   "metadata": {},
   "outputs": [
    {
     "data": {
      "text/plain": [
       "{'title': 'Ultralearning',\n",
       " 'context': 'We all have an Issues with forgetting, as it is a necessity to determine what is useful and unimportant. This is described with the [[Ultralearning#Why Is It So Hard to Remember Things]] *The [[Forgetting Curve]]*.',\n",
       " 'header': 'Why Is It So Hard to Remember Things',\n",
       " 'chunk_index': 2,\n",
       " 'parsed_context': '',\n",
       " 'link_display_text': 'Ultralearning#Why Is It So Hard to Remember Things'}"
      ]
     },
     "execution_count": 14,
     "metadata": {},
     "output_type": "execute_result"
    }
   ],
   "source": [
    "vault_percent.parsed_notes[\"How I Remember Everything I Read\"].chunks[2].out_chunk_relationships[\"Ultralearning#Why Is It So Hard to Remember Things\"][0].properties"
   ]
  },
  {
   "cell_type": "code",
   "execution_count": 20,
   "id": "5ad30b35-4f3c-4dc1-92a6-350c5a9a5770",
   "metadata": {},
   "outputs": [
    {
     "data": {
      "text/plain": [
       "False"
      ]
     },
     "execution_count": 20,
     "metadata": {},
     "output_type": "execute_result"
    }
   ],
   "source": [
    "not {}.keys() and not {\"a\":1}.keys()"
   ]
  },
  {
   "cell_type": "code",
   "execution_count": 36,
   "id": "00e3a0e2-e13a-482d-85f1-6917c4e69495",
   "metadata": {},
   "outputs": [
    {
     "name": "stdout",
     "output_type": "stream",
     "text": [
      "#{1,6} +(No)(?=\\n)\n"
     ]
    }
   ],
   "source": [
    "content = \"# No\\n\"\n",
    "header = \"No\"\n",
    "pattern = fr\"#{{1,6}} +({header})(?=\\n)\"\n",
    "print(pattern)\n",
    "match = re.match(pattern, content)"
   ]
  },
  {
   "cell_type": "code",
   "execution_count": 39,
   "id": "fa6ac806-47b0-4702-8966-62a68564f189",
   "metadata": {},
   "outputs": [
    {
     "name": "stdout",
     "output_type": "stream",
     "text": [
      "# No\n"
     ]
    }
   ],
   "source": [
    "print(match.group())"
   ]
  },
  {
   "cell_type": "code",
   "execution_count": null,
   "id": "edccb18f-0b39-47f1-a61d-335fe08d20a9",
   "metadata": {},
   "outputs": [],
   "source": []
  }
 ],
 "metadata": {
  "kernelspec": {
   "display_name": "Python 3 (ipykernel)",
   "language": "python",
   "name": "python3"
  },
  "language_info": {
   "codemirror_mode": {
    "name": "ipython",
    "version": 3
   },
   "file_extension": ".py",
   "mimetype": "text/x-python",
   "name": "python",
   "nbconvert_exporter": "python",
   "pygments_lexer": "ipython3",
   "version": "3.11.0"
  }
 },
 "nbformat": 4,
 "nbformat_minor": 5
}
