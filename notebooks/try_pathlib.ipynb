{
 "cells": [
  {
   "cell_type": "code",
   "execution_count": 1,
   "id": "7b51c623-ba79-4cc0-9aba-735184799c6c",
   "metadata": {},
   "outputs": [],
   "source": [
    "from pathlib import Path"
   ]
  },
  {
   "cell_type": "code",
   "execution_count": 2,
   "id": "d0364dc4-e478-470c-ae67-55ba77a876fd",
   "metadata": {},
   "outputs": [],
   "source": [
    "s = \"/home/xoph/repos/github/nfroseth/world_graph/src/parse_obsidian_vault.py\""
   ]
  },
  {
   "cell_type": "code",
   "execution_count": 4,
   "id": "356b33ef-6a88-40f6-956f-d3fe7f8f3108",
   "metadata": {},
   "outputs": [],
   "source": [
    "p = Path(s)"
   ]
  },
  {
   "cell_type": "code",
   "execution_count": 5,
   "id": "dfcbc333-7abc-4880-af13-94c8e4e20f39",
   "metadata": {},
   "outputs": [
    {
     "data": {
      "text/plain": [
       "'parse_obsidian_vault'"
      ]
     },
     "execution_count": 5,
     "metadata": {},
     "output_type": "execute_result"
    }
   ],
   "source": [
    "p.stem"
   ]
  }
 ],
 "metadata": {
  "kernelspec": {
   "display_name": "Python 3 (ipykernel)",
   "language": "python",
   "name": "python3"
  },
  "language_info": {
   "codemirror_mode": {
    "name": "ipython",
    "version": 3
   },
   "file_extension": ".py",
   "mimetype": "text/x-python",
   "name": "python",
   "nbconvert_exporter": "python",
   "pygments_lexer": "ipython3",
   "version": "3.11.0"
  }
 },
 "nbformat": 4,
 "nbformat_minor": 5
}
